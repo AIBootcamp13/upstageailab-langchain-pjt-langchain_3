{
 "cells": [
  {
   "cell_type": "code",
   "execution_count": 2,
   "metadata": {},
   "outputs": [],
   "source": [
    "import json\n",
    "from langchain_text_splitters import RecursiveJsonSplitter\n",
    "from langchain.docstore.document import Document\n",
    "from dotenv import load_dotenv\n",
    "import os\n",
    "\n",
    "# API KEY 정보로드\n",
    "load_dotenv()\n",
    "api_key = os.getenv(\"OPENAI_API_KEY\")\n",
    "\n",
    "with open('/Users/jameslee/rag/upstageailab-langchain-pjt-langchain_3/preprocessed_data/all_recipes_cleaned.json', 'r', encoding='utf-8') as f:\n",
    "    data = json.load(f)\n"
   ]
  },
  {
   "cell_type": "code",
   "execution_count": 3,
   "metadata": {},
   "outputs": [],
   "source": [
    "documents = []\n",
    "for item in data:\n",
    "    # combined_text를 주 내용으로, 나머지를 메타데이터로 저장\n",
    "    metadata = {\n",
    "        'id': item.get('id', ''),\n",
    "        'title': item.get('title', ''),\n",
    "        'ingredients': item.get('ingredients', ''),\n",
    "        'url': item.get('url', '')\n",
    "    }\n",
    "    doc = Document(page_content=item.get('combined_text', ''), metadata=metadata)\n",
    "    documents.append(doc)"
   ]
  },
  {
   "cell_type": "code",
   "execution_count": 4,
   "metadata": {},
   "outputs": [],
   "source": [
    "from langchain_upstage import UpstageEmbeddings\n",
    "\n",
    "query_embeddings = UpstageEmbeddings(\n",
    "    api_key=api_key,\n",
    "    model=\"solar-embedding-1-large-query\"\n",
    ")\n",
    "\n",
    "passage_embeddings = UpstageEmbeddings(\n",
    "    api_key=api_key,\n",
    "    model=\"solar-embedding-1-large-passage\"\n",
    ")"
   ]
  },
  {
   "cell_type": "code",
   "execution_count": 13,
   "metadata": {},
   "outputs": [],
   "source": [
    "embedded_documents = passage_embeddings.embed_documents([doc.page_content for doc in documents])"
   ]
  },
  {
   "cell_type": "code",
   "execution_count": 20,
   "metadata": {},
   "outputs": [
    {
     "data": {
      "text/plain": [
       "4096"
      ]
     },
     "execution_count": 20,
     "metadata": {},
     "output_type": "execute_result"
    }
   ],
   "source": [
    "embedded_query = query_embeddings.embed_query(\"피자 만드는 법을 알려줘.\")\n",
    "len(embedded_query)"
   ]
  },
  {
   "cell_type": "code",
   "execution_count": 21,
   "metadata": {},
   "outputs": [
    {
     "name": "stdout",
     "output_type": "stream",
     "text": [
      "냉라면 만드는 법을 알려줘.\n",
      "====================================\n",
      "[0] 유사도: 0.506 | page_content='요리 제목: 에어프라이어로 간단하게 백종원 고구마피자 만들기\n",
      "필요한 재료: 고구마 중 1개, 피망 1/4개, 양파 1/4개, 베이컨 4장, 달걀 1개, 옥수수콘 1~2큰술, 소금 1/3큰술, 설탕 1큰술, 모짜렐라치즈, 파슬리가루\n",
      "만드는 법: 단계 1: 고구마를 깨끗이 씻은 뒤 껍질 채로 채칼을 이용해 썰어주거나 0.3 ~ 0.4cm 두께로 두껍지 않게 썰어줍니다.도마,조리용나이프,채칼,믹싱볼 단계 2: 피망과 양파, 베이컨도 잘게 잘라 준비해 줍니다.도마,조리용나이프 단계 3: 팬에 식용유를 3큰술 정도 두르고 베이컨을 먼저 볶아줍니다.볶음팬,요리스푼고구마가 기름을 먹기 때문에 넉넉하게 둘러준 뒤 볶아주세요. 단계 4: 그 위로 고구마와 소금 1/3큰술을 넣고 골고루 볶아줍니다. 단계 5: 재료가 다 볶아지면 넓은 볼에 달걀 1개를 넣고 잘 섞어준 뒤 썰어 놓은 야채와 옥수수콘을 넣어줍니다.볼,요리젓가락 단계 6: 그 위로 볶은 베이컨과 고구마를 담은 뒤 설탕 1큰술을 넣고 골고루 잘 섞어줍니다. 단계 7: 에어프아이어 바스켓에 종이 호일을 깔고 피자 반죽을 넣어줍니다.종이호일이 때 종이 호일이 크면 공기가 잘 통할 수 있도록 피자 보다 살짝 높게 잘라주세요. 단계 8: 넣은 재료를 평평하게 잘 펼쳐준 뒤 피자치즈를 듬뿍 뿌려주고 180도에서 6~7분 정도 구워준 뒤 160도에서 5~10분 정도 더 구워줍니다.에어프라이어' metadata={'id': '7016926', 'title': '에어프라이어로 간단하게 백종원 고구마피자 만들기', 'ingredients': '고구마 중 1개, 피망 1/4개, 양파 1/4개, 베이컨 4장, 달걀 1개, 옥수수콘 1~2큰술, 소금 1/3큰술, 설탕 1큰술, 모짜렐라치즈, 파슬리가루', 'url': 'https://www.10000recipe.com/recipe/7016926'}\n",
      "\n",
      "[1] 유사도: 0.498 | page_content='요리 제목: 골목식당 롱피자 레시피 :: 백종원 롱피자 솔루션 직접 만들어보았다!\n",
      "필요한 재료: 양파 3컵, 갈은 소고기 2컵, 올리브유 1/4컵, 피자도우호떡믹스, 계란 2개, 요거트소스 2T, 모짜렐라치즈 50g, 소금 1/2ts, 오레가노 1/2ts, 올스파이스 1/2ts, 너트맥 1/3ts\n",
      "만드는 법: 단계 1: 잘게 썬 양파 3컵을 넣어주세요 단계 2: 갈은 소고기 2컵과 올리브유 1/4컵을 넣고 고기가 갈색이 될때까지 볶아주세요 단계 3: 오레가노, 올스파이스, 소금을 각 1/2ST 넣고 너트맥 1/3ST를 넣고 잘 섞어주세요 단계 4: 볶은 고기를 쟁반에 펼쳐서 식혀주세요 단계 5: 미리 준비해둔 피자도우에 구멍을 뚫어 공기가 잘 통하게 해주세요 단계 6: 요거트 소스를 도우에 골고루 발라주세요 단계 7: 식힌 고기를 도우 위에 얹어주세요, 계란이 들어갈 자리는 비워주세요 단계 8: 계란을 깨서 비어둔 자리에 넣어주세요 단계 9: 모짜렐라치즈를 양껏 올려주세요 단계 10: 오븐에 넣어주세요오븐 단계 11: 약 15분 정도 구워주면 완성!' metadata={'id': '6918741', 'title': '골목식당 롱피자 레시피 :: 백종원 롱피자 솔루션 직접 만들어보았다!', 'ingredients': '양파 3컵, 갈은 소고기 2컵, 올리브유 1/4컵, 피자도우호떡믹스, 계란 2개, 요거트소스 2T, 모짜렐라치즈 50g, 소금 1/2ts, 오레가노 1/2ts, 올스파이스 1/2ts, 너트맥 1/3ts', 'url': 'https://www.10000recipe.com/recipe/6918741'}\n",
      "\n",
      "[2] 유사도: 0.495 | page_content='요리 제목: 백종원 또띠아피자\n",
      "필요한 재료: 또띠아 2장, 양파 1/2개, 청양고추 2개, 피자치즈 듬뿍\n",
      "만드는 법: 단계 1: 또띠아를 준비해 주세요. 단계 2: 토핑으로는 양파와 청양고추만 준비하면 된답니다. 양파랑 청양고추는 잘게 다져주시는데요. 너무 크게 썰어주면 잘 익지 않기 때문에 작게 썰어주시는게 좋아요. 단계 3: 마른팬에 또띠아를 한장 올려주고 이때불은 약불로 해주셔야 합니다. 단계 4: 피자치즈를 또띠아위에 골고루 올려주세요. 단계 5: 그리고 다져놓은 양파랑 고추를 올려주고. 단계 6: 또띠아를 한장 위에 이불처럼 덮어줍니다. 단계 7: 손으로 꾸욱 눌러서 또띠아가 치즈에 잘 달라붙도록 해주세요. 단계 8: 이후부터는 뒤집개로 꾹꾹 눌러가며 약불에서 치즈가 녹고, 또띠아가 노릇노릇 해지도록 구워주세요. 앞뒤로 뒤집어가며 치즈가 잘 녹도록 익혀주심 된답니다. 단계 9: 치즈가 녹고 또띠아가 구워지면 끄집어내어 가위로 먹기좋게 잘라주면 완성이에요.' metadata={'id': '6779245', 'title': '백종원 또띠아피자', 'ingredients': '또띠아 2장, 양파 1/2개, 청양고추 2개, 피자치즈 듬뿍', 'url': 'https://www.10000recipe.com/recipe/6779245'}\n",
      "\n",
      "[3] 유사도: 0.491 | page_content='요리 제목: 스팸으로 백종원피자 흉내내기, 백종원피자, 스팸계란피자\n",
      "필요한 재료: 스팸 100g, 식빵 2장, 토마토소스 2큰술, 피자치즈 100g, 계란 2개, 파마산 치즈가루 약간\n",
      "만드는 법: 단계 1: 스팸 100g을 칼등으로 으깨 준 후 최대한 곱게 다진다. 단계 2: 식빵 2장, 토마토소스 2큰술을 준비해 토마토 소스 1큰술씩을 식빵 위에 고루 바른다. 단계 3: 스팸을 반으로 나눠 식빵위에 계란을 담을 수 있도록 높이 있게 테두리를 촘촘하게 만든다. 단계 4: 계란 2개를 준비해 하나씩 식빵위에 담는다. 단계 5: 피자치즈 100g을 준비해 50g씩 나눠 고루 올려 준 후 예열된 오븐 180도에서 10~15분간 굽는다.오븐' metadata={'id': '6919636', 'title': '스팸으로 백종원피자 흉내내기, 백종원피자, 스팸계란피자', 'ingredients': '스팸 100g, 식빵 2장, 토마토소스 2큰술, 피자치즈 100g, 계란 2개, 파마산 치즈가루 약간', 'url': 'https://www.10000recipe.com/recipe/6919636'}\n",
      "\n",
      "[4] 유사도: 0.479 | page_content='요리 제목: 에어프라이어로 백종원 고구마피자 만들기\n",
      "필요한 재료: 고구마 1개, 피망 1/2개, 양파 1/2개, 김밥햄 2주먹, 계란 2개, 옥수수콘 4T, 소금 3꼬집, 치즈 140g, 식용유 적당량, 설탕 1T\n",
      "만드는 법: 단계 1: 깨끗이 씻은 고구마를 잘게 채 썰어 주세요. 단계 2: 피망 1/2개는 적당한 크기로 깍둑썰기 해주세요. 단계 3: 양파도 작은 크기로 깍둑썰기해서 준비해 주세요. 단계 4: 김밥용햄도 양파와 비슷한 크기로 썰어서 준비해줍니다. 단계 5: 콘옥수수도 4T 준비해 주세요. 단계 6: 썰은 햄을 기름 없이 볶아줍니다. 단계 7: 햄이 노릇노릇 익으면 채썰은 고구마를 넣어주세요. 기름을 넉넉하게 두르고 볶아주세요. 고구마가 기름을 많이 흡수하므로 너무 적게 넣지 않도록 주의해 주세요. 단계 8: 고구마 색이 노릇하게 변할 때까지 볶아준 후 소금 약 세꼬집 정도 넣어서 살짝 볶아주세요. 단계 9: 계란 2개를 풀어주세요. 단계 10: 여기에 모든 재료를 넣어주세요.(양파, 피망, 콘옥수수, 볶은 고구마와 햄) 단계 11: 설탕 1T를 넣고 잘 섞어줍니다. 단계 12: 에어프라이어에 호일을 깔고 재료를 넣은 후 그 위에 치즈를 약 140g 정도 뿌려주세요.에어프라이어 단계 13: 180도에 10분간 구워줍니다. 단계 14: 맛있는 백종원 고구마피자 완성이에요!' metadata={'id': '6975637', 'title': '에어프라이어로 백종원 고구마피자 만들기', 'ingredients': '고구마 1개, 피망 1/2개, 양파 1/2개, 김밥햄 2주먹, 계란 2개, 옥수수콘 4T, 소금 3꼬집, 치즈 140g, 식용유 적당량, 설탕 1T', 'url': 'https://www.10000recipe.com/recipe/6975637'}\n",
      "\n"
     ]
    }
   ],
   "source": [
    "import numpy as np\n",
    "\n",
    "# 질문(embedded_query): LangChain 에 대해서 알려주세요.\n",
    "similarity = np.array(embedded_query) @ np.array(embedded_documents).T\n",
    "\n",
    "# 유사도 기준 내림차순 정렬\n",
    "sorted_idx = (np.array(embedded_query) @ np.array(embedded_documents).T).argsort()[::-1]\n",
    "\n",
    "# 결과 출력\n",
    "print(\"냉라면 만드는 법을 알려줘.\\n====================================\")\n",
    "cnt = 0\n",
    "for i, idx in enumerate(sorted_idx):\n",
    "    if cnt < 5:\n",
    "        print(f\"[{i}] 유사도: {similarity[idx]:.3f} | {documents[idx]}\")\n",
    "        print()\n",
    "        cnt += 1\n",
    "    else:\n",
    "        break"
   ]
  },
  {
   "cell_type": "code",
   "execution_count": null,
   "metadata": {},
   "outputs": [],
   "source": []
  }
 ],
 "metadata": {
  "kernelspec": {
   "display_name": "Python 3",
   "language": "python",
   "name": "python3"
  },
  "language_info": {
   "codemirror_mode": {
    "name": "ipython",
    "version": 3
   },
   "file_extension": ".py",
   "mimetype": "text/x-python",
   "name": "python",
   "nbconvert_exporter": "python",
   "pygments_lexer": "ipython3",
   "version": "3.11.5"
  }
 },
 "nbformat": 4,
 "nbformat_minor": 2
}
